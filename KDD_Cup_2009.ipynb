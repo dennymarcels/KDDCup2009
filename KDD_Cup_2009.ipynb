{
 "cells": [
  {
   "cell_type": "markdown",
   "metadata": {},
   "source": [
    "# Estudo de Caso: KDD Cup 2009"
   ]
  },
  {
   "cell_type": "markdown",
   "metadata": {},
   "source": [
    "A Administração de Relacionamento com o Consumidor é um elemento-chave das estratégias modernas de marketing. A maneira mais prática de adquirir conhecimento sobre consumidores é produzindo pontuações. Uma pontuação é a saída de um modelo e serve como avaliação de todas as instâncias de uma variável-alvo que se pretenda explicar. Ferramentas que produzem pontuações permitem projetar informações quantificáveis em uma dada população. A pontuação é calculada usando variáveis de entrada que descrevem as instâncias. As pontuações são então usadas pelo sistema de informação, por exemplo, para personalizar o relacionamento com o consumidor.\n",
    "\n",
    "Em 2009, a conferência Knowledge Discovery and Data Mining (KDD) lançou um desafio envolvendo aprendizagem de máquina. Ela disponibilizou dados de consumidores da empresa de telecomunicações francesa Orange, que deveriam ser utilizados para a construção de um modelo capaz de prever três comportamentos do consumidor. A planilha fornecida tem 50000 instâncias de 230 variáveis, sendo as primeiras 190 variáveis numéricas e as demais 40 categóricas. As variáveis de saída do modelo eram o cancelamento da conta ('churn'), a tendência de usar novos produtos e serviços ('appetency') e a propensão para comprar upgrades ou adicionais com maior margem de lucro quando apresentados (upselling), fornecidos de forma binária (-1 para *não*, 1 para *sim*).\n",
    "\n",
    "O trabalho apresentado aqui envolve a criação de um modelo para predição de *churn*, *appetency* e *upselling* com base nos dados fornecidos dos clientes da Orange. O critério para avaliação do modelo será a métrica AUC, que dimensiona o trade-off entre taxa de falsos positivos e taxa de verdadeiros positivos: quanto mais próximo de 1, menor o trade-off e melhor o modelo."
   ]
  },
  {
   "cell_type": "markdown",
   "metadata": {},
   "source": [
    "## Modelando 'churn'"
   ]
  },
  {
   "cell_type": "markdown",
   "metadata": {},
   "source": [
    "### Importando as dependências"
   ]
  },
  {
   "cell_type": "code",
   "execution_count": 1,
   "metadata": {},
   "outputs": [],
   "source": [
    "import pandas as pd\n",
    "import numpy as np\n",
    "from sklearn.ensemble import ExtraTreesClassifier, RandomForestClassifier, GradientBoostingClassifier\n",
    "from matplotlib import pyplot as plt\n",
    "from sklearn.metrics import roc_auc_score\n",
    "from sklearn.model_selection import train_test_split, cross_val_score, GridSearchCV"
   ]
  },
  {
   "cell_type": "markdown",
   "metadata": {},
   "source": [
    "### Carregando os dados"
   ]
  },
  {
   "cell_type": "code",
   "execution_count": 2,
   "metadata": {},
   "outputs": [],
   "source": [
    "path = 'C:/Users/Denny/Documents/Data Science/Hekima/'\n",
    "features = pd.read_csv(path + 'orange_small_train.data', sep = '\\t', na_filter = False)\n",
    "outcome = pd.read_csv(path + 'orange_small_train_churn.labels', header = None)"
   ]
  },
  {
   "cell_type": "markdown",
   "metadata": {},
   "source": [
    "### Identificando as variáveis numéricas e categóricas"
   ]
  },
  {
   "cell_type": "code",
   "execution_count": 3,
   "metadata": {},
   "outputs": [],
   "source": [
    "all_vars = np.array(features.columns)\n",
    "num_vars = np.array(all_vars[:190])\n",
    "cat_vars = np.array(all_vars[190:])"
   ]
  },
  {
   "cell_type": "markdown",
   "metadata": {},
   "source": [
    "### Verificando a consistência das variáveis\n",
    "\n",
    "De forma a verificar se algumas entradas de variáveis são inconsistentes, eu proponho primeiro verificar se todas as entradas das variáveis numéricas são mesmo números. Para tanto, vou primeiro gerar uma tabela com a contagem de todos os valores presentes nas variáveis numéricas, depois ordenar os valores, e então imprimir os primeiros e os últimos valores."
   ]
  },
  {
   "cell_type": "code",
   "execution_count": 4,
   "metadata": {},
   "outputs": [
    {
     "name": "stdout",
     "output_type": "stream",
     "text": [
      "Primeiras dez categorias:  Index(['', '-10', '-1000060.0', '-10002.16', '-100034.8', '-1000420.0',\n",
      "       '-1000468.0', '-1000496.0', '-1000516.0', '-1000548.0'],\n",
      "      dtype='object')\n",
      "Últimas dez categorias:  Index(['9999040', '999920', '9999240', '99993', '9999400', '9999440',\n",
      "       '9999480', '99995', '99996', '999971'],\n",
      "      dtype='object')\n"
     ]
    }
   ],
   "source": [
    "counts_per_col = pd.DataFrame()\n",
    "for col in num_vars:\n",
    "    print('Processing', col, '/', len(num_vars), end = '\\r')\n",
    "    col_count = features.groupby(col).size()\n",
    "    counts_per_col = counts_per_col.append(col_count, ignore_index = True)\n",
    "counts_per_col = counts_per_col.T\n",
    "counts_per_col.index = counts_per_col.index.astype('str')\n",
    "counts_per_col.sort_index(inplace = True)\n",
    "print('Primeiras dez categorias: ', counts_per_col.index[:10])\n",
    "print('Últimas dez categorias: ', counts_per_col.index[(len(counts_per_col.index)-10):])"
   ]
  },
  {
   "cell_type": "markdown",
   "metadata": {},
   "source": [
    "Observa-se que o primeiro valor corresponde às entradas vazias (dados faltantes), mas as demais são consistentes com o tipo de dado esperado.\n",
    "\n",
    "Farei o mesmo para as variáveis categóricas."
   ]
  },
  {
   "cell_type": "code",
   "execution_count": 5,
   "metadata": {},
   "outputs": [
    {
     "name": "stdout",
     "output_type": "stream",
     "text": [
      "Primeiras dez categorias:  Index(['', '000J', '0062', '00AD', '00ARusu', '00AYONy', '00AhP4J', '00J8E9a',27 / 230 Var228 / 230\n",
      "       '00JHTSP', '00L3'],\n",
      "      dtype='object')\n",
      "Últimas dez categorias:  Index(['zzQ9udm', 'zzQV', 'zzbGOGx', 'zzbGa54', 'zzcv6yg4s3UGv', 'zzfHvGh',\n",
      "       'zzfLM_S', 'zzfUfAI', 'zzfo6HG', 'zzpZ'],\n",
      "      dtype='object')\n"
     ]
    }
   ],
   "source": [
    "counts_per_col = pd.DataFrame()\n",
    "for col in cat_vars:\n",
    "    print('Processing', col, '/', len(all_vars), end = '\\r')\n",
    "    col_count = features.groupby(col).size()\n",
    "    counts_per_col = counts_per_col.append(col_count, ignore_index = True)\n",
    "counts_per_col = counts_per_col.T\n",
    "counts_per_col.index = counts_per_col.index.astype('str')\n",
    "counts_per_col.sort_index(inplace = True)\n",
    "print('Primeiras dez categorias: ', counts_per_col.index[:10])\n",
    "print('Últimas dez categorias: ', counts_per_col.index[(len(counts_per_col.index)-10):])"
   ]
  },
  {
   "cell_type": "markdown",
   "metadata": {},
   "source": [
    "Também se observa que os dados são consistentes. Então vou substituir as entradas vazias por `NaN`."
   ]
  },
  {
   "cell_type": "code",
   "execution_count": 6,
   "metadata": {},
   "outputs": [],
   "source": [
    "features = features.replace('', np.nan)"
   ]
  },
  {
   "cell_type": "markdown",
   "metadata": {},
   "source": [
    "Agora vou corrigir o tipo dos dados no dataframe, de forma a refletir os dados que ele contém."
   ]
  },
  {
   "cell_type": "code",
   "execution_count": 7,
   "metadata": {},
   "outputs": [],
   "source": [
    "for col in num_vars:\n",
    "    features[col] = features[col].astype('float')\n",
    "for col in cat_vars:\n",
    "    features[col] = features[col].astype('category')"
   ]
  },
  {
   "cell_type": "markdown",
   "metadata": {},
   "source": [
    "### Seleção de variáveis"
   ]
  },
  {
   "cell_type": "markdown",
   "metadata": {},
   "source": [
    "#### Variáveis com muitos valores faltantes\n",
    "\n",
    "Primeiro vou verificar o número de valores faltantes em cada variável. Os gráficos representam a soma de variáveis em função de quantos valores faltantes elas possuem."
   ]
  },
  {
   "cell_type": "code",
   "execution_count": 8,
   "metadata": {},
   "outputs": [
    {
     "name": "stdout",
     "output_type": "stream",
     "text": [
      "48513.0\n"
     ]
    },
    {
     "data": {
      "image/png": "[encoded data removed]",
      "text/plain": [
       "<Figure size 432x288 with 2 Axes>"
      ]
     },
     "metadata": {
      "needs_background": "light"
     },
     "output_type": "display_data"
    }
   ],
   "source": [
    "empty_entries_per_column = features.isna().sum(axis = 0)\n",
    "fig, (ax1, ax2) = plt.subplots(1, 2)\n",
    "ax1.boxplot(empty_entries_per_column)\n",
    "ax2.hist(empty_entries_per_column)\n",
    "median = empty_entries_per_column.median()\n",
    "print(median)"
   ]
  },
  {
   "cell_type": "markdown",
   "metadata": {},
   "source": [
    "Observa-se que um número grande de variáveis possuem valores faltantes. De acordo com o boxplot, 50% das variáveis possuem mais de 48513 (97%) valores faltantes. O histograma mostra um número considerável de variáveis contendo menos de 10000 valores faltantes. Sendo assim, vou optar por manter apenas as variáveis que possuam no máximo 10000 valores faltantes (25% do total de instâncias)."
   ]
  },
  {
   "cell_type": "code",
   "execution_count": 9,
   "metadata": {},
   "outputs": [],
   "source": [
    "num_entries = len(features)\n",
    "threshold = 0.25\n",
    "keep_vars = np.array(features.columns[(empty_entries_per_column <= (num_entries * threshold))])\n",
    "\n",
    "# Atualizando os índices:\n",
    "num_vars = [elem for elem in num_vars if elem in keep_vars]\n",
    "cat_vars = [elem for elem in cat_vars if elem in keep_vars]"
   ]
  },
  {
   "cell_type": "markdown",
   "metadata": {},
   "source": [
    "Então vou preecher os valores faltantes. Para as variáveis numéricas, vou preencher com a média da variável. Para as variáveis categóricas, vou preencher com a categoria 'missing'."
   ]
  },
  {
   "cell_type": "code",
   "execution_count": 10,
   "metadata": {},
   "outputs": [],
   "source": [
    "for col in num_vars:\n",
    "    col_mean = features[col].mean()\n",
    "    features[col] = features[col].fillna(col_mean)\n",
    "for col in cat_vars:\n",
    "    features[col] = features[col].cat.add_categories('missing')\n",
    "    features[col] = features[col].fillna('missing')"
   ]
  },
  {
   "cell_type": "markdown",
   "metadata": {},
   "source": [
    "#### Variáveis categóricas com muitas categorias\n",
    "\n",
    "Vou agora verificar quantas categorias cada variável categórica contém."
   ]
  },
  {
   "cell_type": "code",
   "execution_count": 11,
   "metadata": {},
   "outputs": [
    {
     "name": "stdout",
     "output_type": "stream",
     "text": [
      "Var192      362\n",
      "Var193       51\n",
      "Var195       23\n",
      "Var196        4\n",
      "Var197      226\n",
      "Var198     4291\n",
      "Var199     5074\n",
      "Var202     5714\n",
      "Var203        6\n",
      "Var204      100\n",
      "Var205        4\n",
      "Var206       22\n",
      "Var207       14\n",
      "Var208        3\n",
      "Var210        6\n",
      "Var211        2\n",
      "Var212       81\n",
      "Var216     2016\n",
      "Var217    13991\n",
      "Var218        3\n",
      "Var219       23\n",
      "Var220     4291\n",
      "Var221        7\n",
      "Var222     4291\n",
      "Var223        5\n",
      "Var226       23\n",
      "Var227        7\n",
      "Var228       30\n",
      "dtype: int64\n"
     ]
    },
    {
     "data": {
      "text/plain": [
       "(array([21.,  1.,  0.,  4.,  1.,  0.,  0.,  0.,  0.,  1.]),\n",
       " array([2.00000e+00, 1.40090e+03, 2.79980e+03, 4.19870e+03, 5.59760e+03,\n",
       "        6.99650e+03, 8.39540e+03, 9.79430e+03, 1.11932e+04, 1.25921e+04,\n",
       "        1.39910e+04]),\n",
       " <a list of 10 Patch objects>)"
      ]
     },
     "execution_count": 11,
     "metadata": {},
     "output_type": "execute_result"
    },
    {
     "data": {
      "image/png": "[encoded data removed]",
      "text/plain": [
       "<Figure size 432x288 with 1 Axes>"
      ]
     },
     "metadata": {
      "needs_background": "light"
     },
     "output_type": "display_data"
    }
   ],
   "source": [
    "n_categories_per_feature = features[cat_vars].apply(lambda x: len(set(x)))\n",
    "print(n_categories_per_feature)\n",
    "plt.hist(n_categories_per_feature)"
   ]
  },
  {
   "cell_type": "markdown",
   "metadata": {},
   "source": [
    "A maioria das variáveis, 21 de 28 (75%), contêm até 1400 categorias. Eu não acredito que variáveis muito diversas sejam úteis, já que elas provavelmente representam comentários que seriam mais difíceis para traduzir em informação. Dessa forma, vou manter apenas as variáveis categóricas que contenham menos de 1400 categorias."
   ]
  },
  {
   "cell_type": "code",
   "execution_count": 12,
   "metadata": {},
   "outputs": [],
   "source": [
    "cat_vars = np.array(n_categories_per_feature[n_categories_per_feature < 1400].index)"
   ]
  },
  {
   "cell_type": "markdown",
   "metadata": {},
   "source": [
    "Finalmente, consolidando o dataframe:"
   ]
  },
  {
   "cell_type": "code",
   "execution_count": 13,
   "metadata": {},
   "outputs": [],
   "source": [
    "features = features[list(num_vars)+list(cat_vars)]"
   ]
  },
  {
   "cell_type": "code",
   "execution_count": 14,
   "metadata": {},
   "outputs": [
    {
     "data": {
      "text/plain": [
       "(50000, 59)"
      ]
     },
     "execution_count": 14,
     "metadata": {},
     "output_type": "execute_result"
    }
   ],
   "source": [
    "features.shape"
   ]
  },
  {
   "cell_type": "markdown",
   "metadata": {},
   "source": [
    "Temos agora 59 variáveis remanescentes.\n",
    "\n",
    "Como, até esse ponto, o pré-processamento das variáveis era independente da variável de saída do modelo, vou manter o dataframe `features` para reutilização com as demais variáveis de saída, e criar novos dataframes a partir dele para o processamento a seguir. A partir daqui, também vou criar funções em cada etapa para facilitar a construção dos demais modelos."
   ]
  },
  {
   "cell_type": "markdown",
   "metadata": {},
   "source": [
    "#### Seleção de variáveis baseada em árvore de decisão\n",
    "\n",
    "Com o objetivo de verificar quais variáveis são mais importantes na definição da variável de saída do modelo, vou usar o algoritmo `ExtraTreesClassifier`. Como a partir daqui eu só pretendo trabalhar com árvores de decisão em função da natureza dos dados (grande quantidade de variáveis tanto numéricas quanto categóricas), primeiro vou gerar variáveis dummy para as variáveis categóricas; nesse caso, vou gerar um dataframe `features_c` para o modelo correspondente a `churn`."
   ]
  },
  {
   "cell_type": "code",
   "execution_count": 15,
   "metadata": {},
   "outputs": [],
   "source": [
    "features_c = pd.get_dummies(features)"
   ]
  },
  {
   "cell_type": "code",
   "execution_count": 16,
   "metadata": {},
   "outputs": [],
   "source": [
    "def etc_importances(features, outcome):\n",
    "    ### Essa função treina um modelo do tipo ExtraTreesClassifier para determinação da importãncia de cada variável de entrada,\n",
    "    ### depois ordena as variáveis por ordem decrescente de importância, e retorna tanto as variáveis ordenadas quanto\n",
    "    ### os valores de importância ordenados.\n",
    "    \n",
    "    # Construindo e treinando o modelo\n",
    "    model = ExtraTreesClassifier(n_estimators = 200, criterion = 'entropy', verbose = 0, n_jobs = 3, random_state = 0)\n",
    "    model.fit(features, np.array(outcome).ravel())\n",
    "\n",
    "    # Extraindo a importância das variáveis\n",
    "    importances = model.feature_importances_\n",
    "    # Extraindo o nome das variáveis\n",
    "    variables = np.array(features.columns)\n",
    "    # Ordenando as importâncias por ordem decrescente\n",
    "    indices = np.argsort(importances)[::-1]\n",
    "    importances = importances[indices]\n",
    "    variables = variables[indices]\n",
    "    \n",
    "    return variables, importances"
   ]
  },
  {
   "cell_type": "code",
   "execution_count": 17,
   "metadata": {},
   "outputs": [],
   "source": [
    "variables, importances = etc_importances(features_c, outcome)"
   ]
  },
  {
   "cell_type": "markdown",
   "metadata": {},
   "source": [
    "Agora vou gerar um gráfico mostrando a soma cumulativa das importâncias relativas, ordenadas por ordem decrescente de importância, de modo a verificar se mais variáveis podem ser descartadas."
   ]
  },
  {
   "cell_type": "code",
   "execution_count": 18,
   "metadata": {},
   "outputs": [],
   "source": [
    "def sum_and_plot_importances(variables, importances):\n",
    "    ### Essa função calculada a soma acumulada das importâncias das variáveis de entrada e plota um gráfico do número\n",
    "    ### de variáveis por soma acumulada. A função retorna um dataframe contendo o nome das variáveis, na ordem decrescente\n",
    "    ### de importância, e a soma acumulada de importância até aquela variável. \n",
    "    \n",
    "    sum_importances = pd.DataFrame()\n",
    "    for i in range(importances.size):\n",
    "        sum_importance = importances[:(i+1)].sum()\n",
    "        this_variable = pd.Series([variables[i], sum_importance])\n",
    "        sum_importances = sum_importances.append(this_variable, ignore_index = True)\n",
    "    plt.scatter(sum_importances.index, sum_importances.iloc[:, 1])\n",
    "    return sum_importances"
   ]
  },
  {
   "cell_type": "code",
   "execution_count": 19,
   "metadata": {},
   "outputs": [
    {
     "data": {
      "image/png": "[encoded data removed]",
      "text/plain": [
       "<Figure size 432x288 with 1 Axes>"
      ]
     },
     "metadata": {
      "needs_background": "light"
     },
     "output_type": "display_data"
    }
   ],
   "source": [
    "sum_importances = sum_and_plot_importances(variables, importances)"
   ]
  },
  {
   "cell_type": "markdown",
   "metadata": {},
   "source": [
    "Observa-se que as primeiras 800 variáveis representam quase 100% da importância do modelo. Vou adotar uma linha de corte de 99% de importância acumulada para descartar as variáveis de menor importância."
   ]
  },
  {
   "cell_type": "code",
   "execution_count": 20,
   "metadata": {},
   "outputs": [],
   "source": [
    "def keep_vars(features, sum_importances, threshold):\n",
    "    ### Essa função recebe um dataframe contendo as variáveis de entrada, um dataframe contendo a soma acumulada das importâncias\n",
    "    ### por variável de entrada, e um limite a ser aplicado para a soma acumulada, e retorna um dataframe com as variáveis de\n",
    "    ### entrada que atendam o limite de importância acumulada.\n",
    "    \n",
    "    threshold = threshold\n",
    "    keep_vars = list(sum_importances[sum_importances.iloc[:, 1] <= threshold].iloc[:, 0])\n",
    "    features = features.loc[:, keep_vars]\n",
    "    \n",
    "    return features"
   ]
  },
  {
   "cell_type": "code",
   "execution_count": 21,
   "metadata": {},
   "outputs": [],
   "source": [
    "features_c = keep_vars(features_c, sum_importances, threshold = 0.99)"
   ]
  },
  {
   "cell_type": "code",
   "execution_count": 22,
   "metadata": {},
   "outputs": [
    {
     "data": {
      "text/plain": [
       "(50000, 685)"
      ]
     },
     "execution_count": 22,
     "metadata": {},
     "output_type": "execute_result"
    }
   ],
   "source": [
    "features_c.shape"
   ]
  },
  {
   "cell_type": "markdown",
   "metadata": {},
   "source": [
    "O dataframe resultante, contendo 685 variáveis, está pronto para ser usado na construção do modelo."
   ]
  },
  {
   "cell_type": "markdown",
   "metadata": {},
   "source": [
    "## Dividindo os dados em dataset para treino e dataset para teste\n",
    "\n",
    "Vou optar por manter 20% dos dados num dataset para teste. Não vou criar um dataset para validação pois pretendo usar validação cruzada na construção dos modelos. Uma vez que a variável de saída não é balanceada, vou usar estratificação na hora de dividir os datasets."
   ]
  },
  {
   "cell_type": "code",
   "execution_count": 23,
   "metadata": {},
   "outputs": [],
   "source": [
    "def split_datasets(features, outcome, test_size = 0.2):\n",
    "    ### Essa função recebe um dataframe contendo as variáveis de entrada, um dataframe contendo a variável de saída, um\n",
    "    ### valor indicando o percentual de instâncias a ser destinado para o dataset de teste, e faz a divisão dos datasets em\n",
    "    ### treino e teste, estratificada em função do dataframe contendo a variável de saída.\n",
    "    \n",
    "    # Dividindo em treino e teste\n",
    "    X_train, X_test, y_train, y_test = train_test_split(features, outcome, test_size = test_size, stratify = outcome, random_state = 0)\n",
    "\n",
    "    # Formatando as variáveis de saída para alimentar o modelo\n",
    "    y_train, y_test = np.array(y_train).ravel(), np.array(y_test).ravel()\n",
    "    \n",
    "    return X_train, X_test, y_train, y_test"
   ]
  },
  {
   "cell_type": "code",
   "execution_count": 24,
   "metadata": {},
   "outputs": [],
   "source": [
    "X_train, X_test, y_train, y_test = split_datasets(features_c, outcome)"
   ]
  },
  {
   "cell_type": "markdown",
   "metadata": {},
   "source": [
    "### Modelagem preliminar\n",
    "\n",
    "Pretendo testar preliminarmente um modelo usando `RandomForestClassifier` e um modelo usando `GradientBoostingClassifier`, com alguns parâmetros padronizados, para realizar a otimização no modelo de melhor desempenho. A métrica AUC será avaliada por validação cruzada com 5 dobras do dataset de treinamento."
   ]
  },
  {
   "cell_type": "markdown",
   "metadata": {},
   "source": [
    "#### Random Forest Classifier"
   ]
  },
  {
   "cell_type": "code",
   "execution_count": 25,
   "metadata": {},
   "outputs": [],
   "source": [
    "def rfc_test(X_train, y_train, n_estimators = 100, cv = 5):\n",
    "    ### Essa função constrói um modelo de classificação do tipo árvore aleatória, avaliado pela métrica AUC com validação \n",
    "    ### cruzada de 5 dobras, e retorna a média da métrica AUC calculada nas 5 dobras.\n",
    "    np.random.seed(0)\n",
    "    \n",
    "    rfc = RandomForestClassifier(n_estimators = n_estimators, random_state = 0, n_jobs = 3)\n",
    "    cv_scores = cross_val_score(rfc, X_train, y_train, scoring = 'roc_auc', cv = cv, n_jobs = 3)\n",
    "    print('Média dos cinco modelos: ', cv_scores.mean())"
   ]
  },
  {
   "cell_type": "code",
   "execution_count": 26,
   "metadata": {},
   "outputs": [
    {
     "name": "stdout",
     "output_type": "stream",
     "text": [
      "Média dos cinco modelos:  0.6224107938322838\n"
     ]
    }
   ],
   "source": [
    "rfc_test(X_train, y_train)"
   ]
  },
  {
   "cell_type": "markdown",
   "metadata": {},
   "source": [
    "#### Gradient Boosting Classifer"
   ]
  },
  {
   "cell_type": "code",
   "execution_count": 27,
   "metadata": {},
   "outputs": [],
   "source": [
    "def gbc_test(X_train, y_train, n_estimators = 100, learning_rate = 0.1, cv = 5):\n",
    "    ### Essa função constrói um modelo de classificação do tipo boosting gradiente, avaliado pela métrica AUC com validação \n",
    "    ### cruzada de 5 dobras, e retorna a média da métrica AUC calculada nas 5 dobras.\n",
    "    np.random.seed(0)\n",
    "    \n",
    "    gbc = GradientBoostingClassifier(n_estimators = n_estimators, learning_rate = learning_rate, random_state = 0)\n",
    "    cv_scores = cross_val_score(gbc, X_train, y_train, scoring = 'roc_auc', cv = cv, n_jobs = 3)\n",
    "    print('Média dos cinco modelos: ', cv_scores.mean())"
   ]
  },
  {
   "cell_type": "code",
   "execution_count": 28,
   "metadata": {},
   "outputs": [
    {
     "name": "stdout",
     "output_type": "stream",
     "text": [
      "Média dos cinco modelos:  0.6711445148493931\n"
     ]
    }
   ],
   "source": [
    "gbc_test(X_train, y_train)"
   ]
  },
  {
   "cell_type": "markdown",
   "metadata": {},
   "source": [
    "O modelo `GradientBoostingClassifier` tem um desempenho superior e será otimizado."
   ]
  },
  {
   "cell_type": "markdown",
   "metadata": {},
   "source": [
    "## Otimizando o modelo GBC\n",
    "\n",
    "A otimização será realizada em etapas. Primeiro vou usar uma taxa de aprendizagem (`learning_rate`) alta para otimizar os demais parâmetros, depois vou otimizar a taxa de aprendizagem junto com o número de estimadores (`n_estimators`)."
   ]
  },
  {
   "cell_type": "markdown",
   "metadata": {},
   "source": [
    "### Otimizando `n_estimators` para `learning_rate` = 0.1"
   ]
  },
  {
   "cell_type": "code",
   "execution_count": 29,
   "metadata": {},
   "outputs": [],
   "source": [
    "def optimize(n_estimators, learning_rate, min_samples_split, min_samples_leaf, max_depth, max_features, subsample, params, cv = 5):\n",
    "    ### Essa função calcula a média da métrica AUC em 5 dobras do dataset de treinamento fornecido, com base nos parâmetros\n",
    "    ### de modelo e nos parâmetros para otimização também fornecidos, usando o modelo de classificação do tipo boosting\n",
    "    ### gradiente, e retorna o modelo (sem treinamento), os melhores parâmetros que estavam sendo otimizados, e a média da\n",
    "    ### métrica AUC.\n",
    "    \n",
    "    # Definindo o estado aleatório\n",
    "    np.random.seed(0)\n",
    "    \n",
    "    # Definição do modelo\n",
    "    gbc = GradientBoostingClassifier(n_estimators = n_estimators, \n",
    "                                     learning_rate = learning_rate,\n",
    "                                     min_samples_split = min_samples_split,\n",
    "                                     min_samples_leaf = min_samples_leaf, \n",
    "                                     max_depth = max_depth, \n",
    "                                     max_features = max_features, \n",
    "                                     subsample = subsample, \n",
    "                                     random_state = 0)\n",
    "    # Construção do otimizador grid search\n",
    "    grid_search = GridSearchCV(estimator = gbc, param_grid = params, scoring = 'roc_auc', n_jobs = 3, iid = False, cv = cv)\n",
    "    # Treinamento do otimizador\n",
    "    grid_search.fit(X_train, y_train)\n",
    "    # Processamento dos resultados\n",
    "    results = grid_search.cv_results_\n",
    "    best_params = grid_search.best_params_\n",
    "    best_score = grid_search.best_score_\n",
    "    print(best_params, best_score)\n",
    "    \n",
    "    return gbc, best_params, best_score"
   ]
  },
  {
   "cell_type": "code",
   "execution_count": 30,
   "metadata": {},
   "outputs": [],
   "source": [
    "# Inicializando algumas variáveis para coletar os resultados\n",
    "\n",
    "models = np.array([])\n",
    "opt_params = dict()\n",
    "scores = np.array([])"
   ]
  },
  {
   "cell_type": "code",
   "execution_count": 31,
   "metadata": {},
   "outputs": [
    {
     "name": "stdout",
     "output_type": "stream",
     "text": [
      "{'n_estimators': 60} 0.6654320677976999\n"
     ]
    }
   ],
   "source": [
    "### MODELO 0\n",
    "\n",
    "learning_rate = 0.1\n",
    "n_estimators = None\n",
    "max_depth = 8\n",
    "min_samples_split = 250\n",
    "min_samples_leaf = 20\n",
    "max_features = 'sqrt'\n",
    "subsample = 0.8\n",
    "params = {'n_estimators': range(50, 151, 10)}\n",
    "\n",
    "gbc, opt_param, score = optimize(n_estimators = n_estimators,\n",
    "                                 learning_rate = learning_rate,\n",
    "                                 min_samples_split = min_samples_split,\n",
    "                                 min_samples_leaf = min_samples_leaf,\n",
    "                                 max_depth = max_depth,\n",
    "                                 max_features = max_features,\n",
    "                                 subsample = subsample,\n",
    "                                 params = params)"
   ]
  },
  {
   "cell_type": "code",
   "execution_count": 32,
   "metadata": {},
   "outputs": [],
   "source": [
    "# Atualizando as variáveis contendo os resultados\n",
    "\n",
    "models = np.append(models, gbc);\n",
    "opt_params = {**opt_params, **opt_param}\n",
    "scores = np.append(scores, score);"
   ]
  },
  {
   "cell_type": "markdown",
   "metadata": {},
   "source": [
    "### Otimizando `max_depth` e `min_samples_split`"
   ]
  },
  {
   "cell_type": "code",
   "execution_count": 33,
   "metadata": {},
   "outputs": [
    {
     "name": "stdout",
     "output_type": "stream",
     "text": [
      "{'max_depth': 7, 'min_samples_split': 300} 0.6715353727289998\n"
     ]
    }
   ],
   "source": [
    "### MODELO 1\n",
    "\n",
    "n_estimators = opt_params['n_estimators']\n",
    "max_depth = None\n",
    "min_samples_split = None\n",
    "min_samples_leaf = 20\n",
    "max_features = 'sqrt'\n",
    "subsample = 0.8\n",
    "params = {'max_depth': range(3, 12, 2), 'min_samples_split': range(150, 401, 50)}\n",
    "\n",
    "gbc, opt_param, score = optimize(n_estimators = n_estimators,\n",
    "                                 learning_rate = learning_rate,\n",
    "                                 min_samples_split = min_samples_split,\n",
    "                                 min_samples_leaf = min_samples_leaf,\n",
    "                                 max_depth = max_depth,\n",
    "                                 max_features = max_features,\n",
    "                                 subsample = subsample,\n",
    "                                 params = params)"
   ]
  },
  {
   "cell_type": "code",
   "execution_count": 34,
   "metadata": {},
   "outputs": [],
   "source": [
    "# Atualizando as variáveis contendo os resultados\n",
    "\n",
    "models = np.append(models, gbc);\n",
    "opt_params = {**opt_params, **opt_param}\n",
    "scores = np.append(scores, score);"
   ]
  },
  {
   "cell_type": "markdown",
   "metadata": {},
   "source": [
    "### Otimizando `min_samples_leaf`"
   ]
  },
  {
   "cell_type": "code",
   "execution_count": 35,
   "metadata": {},
   "outputs": [
    {
     "name": "stdout",
     "output_type": "stream",
     "text": [
      "{'min_samples_leaf': 45} 0.6729449847001296\n"
     ]
    }
   ],
   "source": [
    "### MODELO 2\n",
    "\n",
    "max_depth = opt_params['max_depth']\n",
    "min_samples_split = opt_params['min_samples_split']\n",
    "min_samples_leaf = None\n",
    "max_features = 'sqrt'\n",
    "subsample = 0.8\n",
    "params = {'min_samples_leaf': range(25, 61, 5)}\n",
    "\n",
    "gbc, opt_param, score = optimize(n_estimators = n_estimators,\n",
    "                                 learning_rate = learning_rate,\n",
    "                                 min_samples_split = min_samples_split,\n",
    "                                 min_samples_leaf = min_samples_leaf,\n",
    "                                 max_depth = max_depth,\n",
    "                                 max_features = max_features,\n",
    "                                 subsample = subsample,\n",
    "                                 params = params)"
   ]
  },
  {
   "cell_type": "code",
   "execution_count": 36,
   "metadata": {},
   "outputs": [],
   "source": [
    "# Atualizando as variáveis contendo os resultados\n",
    "\n",
    "models = np.append(models, gbc);\n",
    "opt_params = {**opt_params, **opt_param}\n",
    "scores = np.append(scores, score);"
   ]
  },
  {
   "cell_type": "markdown",
   "metadata": {},
   "source": [
    "### Otimizando `max_features`"
   ]
  },
  {
   "cell_type": "code",
   "execution_count": 37,
   "metadata": {},
   "outputs": [
    {
     "name": "stdout",
     "output_type": "stream",
     "text": [
      "{'max_features': 26} 0.6729449847001296\n"
     ]
    }
   ],
   "source": [
    "### MODELO 3\n",
    "\n",
    "min_samples_leaf = opt_params['min_samples_leaf']\n",
    "max_features = None\n",
    "subsample = 0.8\n",
    "params = {'max_features': range(21, 31, 1)}\n",
    "\n",
    "gbc, opt_param, score = optimize(n_estimators = n_estimators,\n",
    "                                 learning_rate = learning_rate,\n",
    "                                 min_samples_split = min_samples_split,\n",
    "                                 min_samples_leaf = min_samples_leaf,\n",
    "                                 max_depth = max_depth,\n",
    "                                 max_features = max_features,\n",
    "                                 subsample = subsample,\n",
    "                                 params = params)"
   ]
  },
  {
   "cell_type": "code",
   "execution_count": 38,
   "metadata": {},
   "outputs": [],
   "source": [
    "# Atualizando as variáveis contendo os resultados\n",
    "\n",
    "models = np.append(models, gbc);\n",
    "opt_params = {**opt_params, **opt_param}\n",
    "scores = np.append(scores, score);"
   ]
  },
  {
   "cell_type": "markdown",
   "metadata": {},
   "source": [
    "### Otimizando `subsample`"
   ]
  },
  {
   "cell_type": "code",
   "execution_count": 39,
   "metadata": {},
   "outputs": [
    {
     "name": "stdout",
     "output_type": "stream",
     "text": [
      "{'subsample': 0.8000000000000002} 0.6729449847001296\n"
     ]
    }
   ],
   "source": [
    "### MODELO 4\n",
    "\n",
    "max_features = opt_params['max_features']\n",
    "subsample = None\n",
    "params = {'subsample': np.append(np.arange(0.6, 1, 0.05), 1)}\n",
    "\n",
    "gbc, opt_param, score = optimize(n_estimators = n_estimators,\n",
    "                                 learning_rate = learning_rate,\n",
    "                                 min_samples_split = min_samples_split,\n",
    "                                 min_samples_leaf = min_samples_leaf,\n",
    "                                 max_depth = max_depth,\n",
    "                                 max_features = max_features,\n",
    "                                 subsample = subsample,\n",
    "                                 params = params)"
   ]
  },
  {
   "cell_type": "code",
   "execution_count": 40,
   "metadata": {},
   "outputs": [],
   "source": [
    "# Atualizando as variáveis contendo os resultados\n",
    "\n",
    "models = np.append(models, gbc);\n",
    "opt_params = {**opt_params, **opt_param}\n",
    "scores = np.append(scores, score);"
   ]
  },
  {
   "cell_type": "markdown",
   "metadata": {},
   "source": [
    "### Otimizando `n_estimators` e `learning_rate`\n",
    "\n",
    "A partir daqui, vou reduzir a taxa de aprendizagem `learning_rate` enquanto ao mesmo tempo aumento o número de estimadores `n_estimators` proporcionalmente. A função de otimização `optimize_2` também vai retornar um gráfico com as métricas AUC para cada etapa de otimização desde o início, incluindo a métrica calculada na etapa em questão."
   ]
  },
  {
   "cell_type": "code",
   "execution_count": 41,
   "metadata": {},
   "outputs": [],
   "source": [
    "def optimize_2(n_estimators, learning_rate, min_samples_split, min_samples_leaf, max_depth, max_features, subsample, params, cv = 5):\n",
    "    ### Essa função calcula a média da métrica AUC em 5 dobras do dataset de treinamento fornecido, com base nos parâmetros\n",
    "    ### de modelo e nos parâmetros para otimização também fornecidos, usando o modelo de classificação do tipo boosting\n",
    "    ### gradiente, e retorna o modelo (sem treinamento) e a média da métrica AUC. Ela também plota uma figura com a métrica AUC\n",
    "    ### calculada para cada etapa de otimização desde o início.\n",
    "    \n",
    "    # Definindo o estado aleatório\n",
    "    np.random.seed(0)\n",
    "    \n",
    "    # Definição do modelo\n",
    "    gbc = GradientBoostingClassifier(n_estimators = n_estimators, \n",
    "                                     learning_rate = learning_rate,\n",
    "                                     min_samples_split = min_samples_split,\n",
    "                                     min_samples_leaf = min_samples_leaf, \n",
    "                                     max_depth = max_depth, \n",
    "                                     max_features = max_features, \n",
    "                                     subsample = subsample, \n",
    "                                     random_state = 0)\n",
    "    # Cálculo da métrica AUC com validação cruzada\n",
    "    cv_scores = cross_val_score(gbc, X_train, y_train, scoring = 'roc_auc', cv = cv, n_jobs = 3)\n",
    "    score = cv_scores.mean()\n",
    "    plt.plot(np.append(scores, score))\n",
    "    plt.title('n_estimators = {} ... learning_rate = {}'.format(n_estimators, learning_rate))\n",
    "    \n",
    "    return gbc, score"
   ]
  },
  {
   "cell_type": "code",
   "execution_count": 42,
   "metadata": {},
   "outputs": [],
   "source": [
    "# Definindo variáveis com o número de estimadores *n_estimators* e a taxa de aprendizagem *learning_rate* utilizados até aqui\n",
    "\n",
    "learning_rate = 0.1\n",
    "n_estimators = opt_params['n_estimators']"
   ]
  },
  {
   "cell_type": "code",
   "execution_count": 43,
   "metadata": {},
   "outputs": [
    {
     "data": {
      "image/png": "[encoded data removed]",
      "text/plain": [
       "<Figure size 432x288 with 1 Axes>"
      ]
     },
     "metadata": {
      "needs_background": "light"
     },
     "output_type": "display_data"
    }
   ],
   "source": [
    "### MODELO 5\n",
    "\n",
    "subsample = opt_params['subsample']\n",
    "learning_rate /= 2\n",
    "n_estimators *= 2\n",
    "\n",
    "gbc, score = optimize_2(n_estimators = n_estimators,\n",
    "                        learning_rate = learning_rate,\n",
    "                        min_samples_split = min_samples_split,\n",
    "                        min_samples_leaf = min_samples_leaf,\n",
    "                        max_depth = max_depth,\n",
    "                        max_features = max_features,\n",
    "                        subsample = subsample,\n",
    "                        params = params)"
   ]
  },
  {
   "cell_type": "code",
   "execution_count": 44,
   "metadata": {},
   "outputs": [],
   "source": [
    "# Atualizando as variáveis contendo os resultados\n",
    "\n",
    "models = np.append(models, gbc);\n",
    "scores = np.append(scores, score);"
   ]
  },
  {
   "cell_type": "code",
   "execution_count": 45,
   "metadata": {},
   "outputs": [
    {
     "data": {
      "image/png": "[encoded data removed]",
      "text/plain": [
       "<Figure size 432x288 with 1 Axes>"
      ]
     },
     "metadata": {
      "needs_background": "light"
     },
     "output_type": "display_data"
    }
   ],
   "source": [
    "### MODELO 6\n",
    "\n",
    "learning_rate /= 5\n",
    "n_estimators *= 5\n",
    "\n",
    "gbc, score = optimize_2(n_estimators = n_estimators,\n",
    "                        learning_rate = learning_rate,\n",
    "                        min_samples_split = min_samples_split,\n",
    "                        min_samples_leaf = min_samples_leaf,\n",
    "                        max_depth = max_depth,\n",
    "                        max_features = max_features,\n",
    "                        subsample = subsample,\n",
    "                        params = params)"
   ]
  },
  {
   "cell_type": "code",
   "execution_count": 46,
   "metadata": {},
   "outputs": [],
   "source": [
    "# Atualizando as variáveis contendo os resultados\n",
    "\n",
    "models = np.append(models, gbc);\n",
    "scores = np.append(scores, score);"
   ]
  },
  {
   "cell_type": "code",
   "execution_count": 47,
   "metadata": {},
   "outputs": [
    {
     "data": {
      "image/png": "[encoded data removed]",
      "text/plain": [
       "<Figure size 432x288 with 1 Axes>"
      ]
     },
     "metadata": {
      "needs_background": "light"
     },
     "output_type": "display_data"
    }
   ],
   "source": [
    "### MODELO 7\n",
    "\n",
    "learning_rate /= 2\n",
    "n_estimators *= 2\n",
    "\n",
    "gbc, score = optimize_2(n_estimators = n_estimators,\n",
    "                        learning_rate = learning_rate,\n",
    "                        min_samples_split = min_samples_split,\n",
    "                        min_samples_leaf = min_samples_leaf,\n",
    "                        max_depth = max_depth,\n",
    "                        max_features = max_features,\n",
    "                        subsample = subsample,\n",
    "                        params = params)"
   ]
  },
  {
   "cell_type": "code",
   "execution_count": 48,
   "metadata": {},
   "outputs": [],
   "source": [
    "# Atualizando as variáveis contendo os resultados\n",
    "\n",
    "models = np.append(models, gbc);\n",
    "scores = np.append(scores, score);"
   ]
  },
  {
   "cell_type": "code",
   "execution_count": 49,
   "metadata": {},
   "outputs": [
    {
     "data": {
      "image/png": "[encoded data removed]",
      "text/plain": [
       "<Figure size 432x288 with 1 Axes>"
      ]
     },
     "metadata": {
      "needs_background": "light"
     },
     "output_type": "display_data"
    }
   ],
   "source": [
    "### MODELO 8\n",
    "\n",
    "learning_rate /= 5\n",
    "n_estimators *= 5\n",
    "\n",
    "gbc, score = optimize_2(n_estimators = n_estimators,\n",
    "                        learning_rate = learning_rate,\n",
    "                        min_samples_split = min_samples_split,\n",
    "                        min_samples_leaf = min_samples_leaf,\n",
    "                        max_depth = max_depth,\n",
    "                        max_features = max_features,\n",
    "                        subsample = subsample,\n",
    "                        params = params)"
   ]
  },
  {
   "cell_type": "code",
   "execution_count": 50,
   "metadata": {},
   "outputs": [],
   "source": [
    "# Atualizando as variáveis contendo os resultados\n",
    "\n",
    "models = np.append(models, gbc);\n",
    "scores = np.append(scores, score);"
   ]
  },
  {
   "cell_type": "code",
   "execution_count": 51,
   "metadata": {},
   "outputs": [
    {
     "name": "stdout",
     "output_type": "stream",
     "text": [
      "Modelo de melhor desempenho:  8  - AUC:  0.6767276625799957\n"
     ]
    }
   ],
   "source": [
    "print('Modelo de melhor desempenho: ', scores.argmax(), ' - AUC: ', max(scores))"
   ]
  },
  {
   "cell_type": "markdown",
   "metadata": {},
   "source": [
    "O melhor modelo alcançou AUC de `0.6767` no dataset de treinamento. Finalmente, vou treinar esse modelo com o dataset completo de treinamento e calcular a métrica AUC no dataset de teste."
   ]
  },
  {
   "cell_type": "code",
   "execution_count": 52,
   "metadata": {},
   "outputs": [
    {
     "data": {
      "text/plain": [
       "GradientBoostingClassifier(criterion='friedman_mse', init=None,\n",
       "              learning_rate=0.001, loss='deviance', max_depth=7,\n",
       "              max_features=26, max_leaf_nodes=None,\n",
       "              min_impurity_decrease=0.0, min_impurity_split=None,\n",
       "              min_samples_leaf=45, min_samples_split=300,\n",
       "              min_weight_fraction_leaf=0.0, n_estimators=6000,\n",
       "              n_iter_no_change=None, presort='auto', random_state=0,\n",
       "              subsample=0.8000000000000002, tol=0.0001,\n",
       "              validation_fraction=0.1, verbose=0, warm_start=False)"
      ]
     },
     "execution_count": 52,
     "metadata": {},
     "output_type": "execute_result"
    }
   ],
   "source": [
    "best_model = models[scores.argmax()]\n",
    "best_model.fit(X_train, y_train)"
   ]
  },
  {
   "cell_type": "code",
   "execution_count": 53,
   "metadata": {},
   "outputs": [
    {
     "data": {
      "text/plain": [
       "0.6850952561031483"
      ]
     },
     "execution_count": 53,
     "metadata": {},
     "output_type": "execute_result"
    }
   ],
   "source": [
    "y_pred_probs = best_model.predict_proba(X_test)\n",
    "roc_auc_score(y_test, y_pred_probs[:, 1])"
   ]
  },
  {
   "cell_type": "markdown",
   "metadata": {},
   "source": [
    "**Conclusão:** O modelo otimizado atingiu AUC de `0.6851` no dataset de teste."
   ]
  },
  {
   "cell_type": "markdown",
   "metadata": {},
   "source": [
    "## Modelando 'appetency'\n",
    "\n",
    "O modelo para a nova variável de saída só precisa ser atualizado a partir da seleção de variáveis através de árvore de decisão. Primeiro vou carregar os dados correspondentes à variável `appetency`, depois vou prosseguir com o pré-processamento do dataframe `features` até o final, repetindo o processo descrito acima."
   ]
  },
  {
   "cell_type": "code",
   "execution_count": 54,
   "metadata": {},
   "outputs": [],
   "source": [
    "outcome = pd.read_csv(path + 'orange_small_train_appetency.labels', header = None)"
   ]
  },
  {
   "cell_type": "code",
   "execution_count": 55,
   "metadata": {},
   "outputs": [],
   "source": [
    "features_a = pd.get_dummies(features)"
   ]
  },
  {
   "cell_type": "code",
   "execution_count": 56,
   "metadata": {},
   "outputs": [
    {
     "data": {
      "image/png": "[encoded data removed]",
      "text/plain": [
       "<Figure size 432x288 with 1 Axes>"
      ]
     },
     "metadata": {
      "needs_background": "light"
     },
     "output_type": "display_data"
    }
   ],
   "source": [
    "variables, importances = etc_importances(features_a, outcome)\n",
    "sum_importances = sum_and_plot_importances(variables, importances)"
   ]
  },
  {
   "cell_type": "code",
   "execution_count": 57,
   "metadata": {},
   "outputs": [
    {
     "data": {
      "text/plain": [
       "(50000, 591)"
      ]
     },
     "execution_count": 57,
     "metadata": {},
     "output_type": "execute_result"
    }
   ],
   "source": [
    "features_a = keep_vars(features_a, sum_importances, threshold = 0.99)\n",
    "features_a.shape"
   ]
  },
  {
   "cell_type": "code",
   "execution_count": 58,
   "metadata": {},
   "outputs": [],
   "source": [
    "X_train, X_test, y_train, y_test = split_datasets(features_a, outcome)"
   ]
  },
  {
   "cell_type": "code",
   "execution_count": 59,
   "metadata": {},
   "outputs": [
    {
     "name": "stdout",
     "output_type": "stream",
     "text": [
      "Média dos cinco modelos:  0.678986753683195\n"
     ]
    }
   ],
   "source": [
    "rfc_test(X_train, y_train)"
   ]
  },
  {
   "cell_type": "code",
   "execution_count": 60,
   "metadata": {},
   "outputs": [
    {
     "name": "stdout",
     "output_type": "stream",
     "text": [
      "Média dos cinco modelos:  0.7542200720086567\n"
     ]
    }
   ],
   "source": [
    "gbc_test(X_train, y_train)"
   ]
  },
  {
   "cell_type": "code",
   "execution_count": 61,
   "metadata": {},
   "outputs": [],
   "source": [
    "models = np.array([])\n",
    "opt_params = dict()\n",
    "scores = np.array([])"
   ]
  },
  {
   "cell_type": "code",
   "execution_count": 62,
   "metadata": {},
   "outputs": [
    {
     "name": "stdout",
     "output_type": "stream",
     "text": [
      "{'n_estimators': 30} 0.7345255481129098\n"
     ]
    }
   ],
   "source": [
    "### MODELO 0\n",
    "\n",
    "learning_rate = 0.1\n",
    "n_estimators = None\n",
    "max_depth = 8\n",
    "min_samples_split = 250\n",
    "min_samples_leaf = 20\n",
    "max_features = 'sqrt'\n",
    "subsample = 0.8\n",
    "params = {'n_estimators': range(10, 101, 10)}\n",
    "\n",
    "gbc, opt_param, score = optimize(n_estimators = n_estimators,\n",
    "                                 learning_rate = learning_rate,\n",
    "                                 min_samples_split = min_samples_split,\n",
    "                                 min_samples_leaf = min_samples_leaf,\n",
    "                                 max_depth = max_depth,\n",
    "                                 max_features = max_features,\n",
    "                                 subsample = subsample,\n",
    "                                 params = params)"
   ]
  },
  {
   "cell_type": "code",
   "execution_count": 63,
   "metadata": {},
   "outputs": [],
   "source": [
    "models = np.append(models, gbc);\n",
    "opt_params = {**opt_params, **opt_param}\n",
    "scores = np.append(scores, score);"
   ]
  },
  {
   "cell_type": "code",
   "execution_count": 64,
   "metadata": {},
   "outputs": [
    {
     "name": "stdout",
     "output_type": "stream",
     "text": [
      "{'max_depth': 5, 'min_samples_split': 100} 0.7391809856792442\n"
     ]
    }
   ],
   "source": [
    "### MODELO 1\n",
    "\n",
    "n_estimators = opt_params['n_estimators']\n",
    "max_depth = None\n",
    "min_samples_split = None\n",
    "min_samples_leaf = 20\n",
    "max_features = 'sqrt'\n",
    "subsample = 0.8\n",
    "params = {'max_depth': range(1, 7, 1), 'min_samples_split': range(50, 151, 50)}\n",
    "\n",
    "gbc, opt_param, score = optimize(n_estimators = n_estimators,\n",
    "                                 learning_rate = learning_rate,\n",
    "                                 min_samples_split = min_samples_split,\n",
    "                                 min_samples_leaf = min_samples_leaf,\n",
    "                                 max_depth = max_depth,\n",
    "                                 max_features = max_features,\n",
    "                                 subsample = subsample,\n",
    "                                 params = params)"
   ]
  },
  {
   "cell_type": "code",
   "execution_count": 65,
   "metadata": {},
   "outputs": [],
   "source": [
    "models = np.append(models, gbc);\n",
    "opt_params = {**opt_params, **opt_param}\n",
    "scores = np.append(scores, score);"
   ]
  },
  {
   "cell_type": "code",
   "execution_count": 66,
   "metadata": {},
   "outputs": [
    {
     "name": "stdout",
     "output_type": "stream",
     "text": [
      "{'min_samples_leaf': 2} 0.7515813180647919\n"
     ]
    }
   ],
   "source": [
    "### MODELO 2\n",
    "\n",
    "max_depth = opt_params['max_depth']\n",
    "min_samples_split = opt_params['min_samples_split']\n",
    "min_samples_leaf = None\n",
    "max_features = 'sqrt'\n",
    "subsample = 0.8\n",
    "params = {'min_samples_leaf': range(1, 11, 1)}\n",
    "\n",
    "gbc, opt_param, score = optimize(n_estimators = n_estimators,\n",
    "                                 learning_rate = learning_rate,\n",
    "                                 min_samples_split = min_samples_split,\n",
    "                                 min_samples_leaf = min_samples_leaf,\n",
    "                                 max_depth = max_depth,\n",
    "                                 max_features = max_features,\n",
    "                                 subsample = subsample,\n",
    "                                 params = params)"
   ]
  },
  {
   "cell_type": "code",
   "execution_count": 67,
   "metadata": {},
   "outputs": [],
   "source": [
    "models = np.append(models, gbc);\n",
    "opt_params = {**opt_params, **opt_param}\n",
    "scores = np.append(scores, score);"
   ]
  },
  {
   "cell_type": "code",
   "execution_count": 68,
   "metadata": {},
   "outputs": [
    {
     "name": "stdout",
     "output_type": "stream",
     "text": [
      "{'max_features': 28} 0.760034571219339\n"
     ]
    }
   ],
   "source": [
    "### MODELO 3\n",
    "\n",
    "min_samples_leaf = opt_params['min_samples_leaf']\n",
    "max_features = None\n",
    "subsample = 0.8\n",
    "params = {'max_features': range(21, 31, 1)}\n",
    "\n",
    "gbc, opt_param, score = optimize(n_estimators = n_estimators,\n",
    "                                 learning_rate = learning_rate,\n",
    "                                 min_samples_split = min_samples_split,\n",
    "                                 min_samples_leaf = min_samples_leaf,\n",
    "                                 max_depth = max_depth,\n",
    "                                 max_features = max_features,\n",
    "                                 subsample = subsample,\n",
    "                                 params = params)"
   ]
  },
  {
   "cell_type": "code",
   "execution_count": 69,
   "metadata": {},
   "outputs": [],
   "source": [
    "models = np.append(models, gbc);\n",
    "opt_params = {**opt_params, **opt_param}\n",
    "scores = np.append(scores, score);"
   ]
  },
  {
   "cell_type": "code",
   "execution_count": 70,
   "metadata": {},
   "outputs": [
    {
     "name": "stdout",
     "output_type": "stream",
     "text": [
      "{'subsample': 0.9000000000000002} 0.7610709789848987\n"
     ]
    }
   ],
   "source": [
    "### MODELO 4\n",
    "\n",
    "max_features =  opt_params['max_features']\n",
    "subsample = None\n",
    "params = {'subsample': np.append(np.arange(0.6, 1, 0.05), 1)}\n",
    "\n",
    "gbc, opt_param, score = optimize(n_estimators = n_estimators,\n",
    "                                 learning_rate = learning_rate,\n",
    "                                 min_samples_split = min_samples_split,\n",
    "                                 min_samples_leaf = min_samples_leaf,\n",
    "                                 max_depth = max_depth,\n",
    "                                 max_features = max_features,\n",
    "                                 subsample = subsample,\n",
    "                                 params = params)"
   ]
  },
  {
   "cell_type": "code",
   "execution_count": 71,
   "metadata": {},
   "outputs": [],
   "source": [
    "models = np.append(models, gbc);\n",
    "opt_params = {**opt_params, **opt_param}\n",
    "scores = np.append(scores, score);"
   ]
  },
  {
   "cell_type": "code",
   "execution_count": 72,
   "metadata": {},
   "outputs": [],
   "source": [
    "learning_rate = 0.1\n",
    "n_estimators = opt_params['n_estimators']"
   ]
  },
  {
   "cell_type": "code",
   "execution_count": 73,
   "metadata": {},
   "outputs": [
    {
     "data": {
      "image/png": "[encoded data removed]",
      "text/plain": [
       "<Figure size 432x288 with 1 Axes>"
      ]
     },
     "metadata": {
      "needs_background": "light"
     },
     "output_type": "display_data"
    }
   ],
   "source": [
    "### MODELO 5\n",
    "\n",
    "subsample = opt_params['subsample']\n",
    "learning_rate /= 2\n",
    "n_estimators *= 2\n",
    "\n",
    "gbc, score = optimize_2(n_estimators = n_estimators,\n",
    "                        learning_rate = learning_rate,\n",
    "                        min_samples_split = min_samples_split,\n",
    "                        min_samples_leaf = min_samples_leaf,\n",
    "                        max_depth = max_depth,\n",
    "                        max_features = max_features,\n",
    "                        subsample = subsample,\n",
    "                        params = params)"
   ]
  },
  {
   "cell_type": "code",
   "execution_count": 74,
   "metadata": {},
   "outputs": [],
   "source": [
    "models = np.append(models, gbc);\n",
    "scores = np.append(scores, score);"
   ]
  },
  {
   "cell_type": "code",
   "execution_count": 75,
   "metadata": {},
   "outputs": [
    {
     "data": {
      "image/png": "[encoded data removed]",
      "text/plain": [
       "<Figure size 432x288 with 1 Axes>"
      ]
     },
     "metadata": {
      "needs_background": "light"
     },
     "output_type": "display_data"
    }
   ],
   "source": [
    "### MODELO 6\n",
    "\n",
    "learning_rate /= 5\n",
    "n_estimators *= 5\n",
    "\n",
    "gbc, score = optimize_2(n_estimators = n_estimators,\n",
    "                        learning_rate = learning_rate,\n",
    "                        min_samples_split = min_samples_split,\n",
    "                        min_samples_leaf = min_samples_leaf,\n",
    "                        max_depth = max_depth,\n",
    "                        max_features = max_features,\n",
    "                        subsample = subsample,\n",
    "                        params = params)"
   ]
  },
  {
   "cell_type": "code",
   "execution_count": 76,
   "metadata": {},
   "outputs": [],
   "source": [
    "models = np.append(models, gbc);\n",
    "scores = np.append(scores, score);"
   ]
  },
  {
   "cell_type": "code",
   "execution_count": 77,
   "metadata": {},
   "outputs": [
    {
     "data": {
      "image/png": "[encoded data removed]",
      "text/plain": [
       "<Figure size 432x288 with 1 Axes>"
      ]
     },
     "metadata": {
      "needs_background": "light"
     },
     "output_type": "display_data"
    }
   ],
   "source": [
    "### MODELO 7\n",
    "\n",
    "learning_rate /= 2\n",
    "n_estimators *= 2\n",
    "\n",
    "gbc, score = optimize_2(n_estimators = n_estimators,\n",
    "                        learning_rate = learning_rate,\n",
    "                        min_samples_split = min_samples_split,\n",
    "                        min_samples_leaf = min_samples_leaf,\n",
    "                        max_depth = max_depth,\n",
    "                        max_features = max_features,\n",
    "                        subsample = subsample,\n",
    "                        params = params)"
   ]
  },
  {
   "cell_type": "code",
   "execution_count": 78,
   "metadata": {},
   "outputs": [],
   "source": [
    "models = np.append(models, gbc);\n",
    "scores = np.append(scores, score);"
   ]
  },
  {
   "cell_type": "code",
   "execution_count": 79,
   "metadata": {},
   "outputs": [
    {
     "data": {
      "image/png": "[encoded data removed]",
      "text/plain": [
       "<Figure size 432x288 with 1 Axes>"
      ]
     },
     "metadata": {
      "needs_background": "light"
     },
     "output_type": "display_data"
    }
   ],
   "source": [
    "### MODELO 8\n",
    "\n",
    "learning_rate /= 5\n",
    "n_estimators *= 5\n",
    "\n",
    "gbc, score = optimize_2(n_estimators = n_estimators,\n",
    "                        learning_rate = learning_rate,\n",
    "                        min_samples_split = min_samples_split,\n",
    "                        min_samples_leaf = min_samples_leaf,\n",
    "                        max_depth = max_depth,\n",
    "                        max_features = max_features,\n",
    "                        subsample = subsample,\n",
    "                        params = params)"
   ]
  },
  {
   "cell_type": "code",
   "execution_count": 80,
   "metadata": {},
   "outputs": [],
   "source": [
    "models = np.append(models, gbc);\n",
    "scores = np.append(scores, score);"
   ]
  },
  {
   "cell_type": "code",
   "execution_count": 81,
   "metadata": {},
   "outputs": [
    {
     "name": "stdout",
     "output_type": "stream",
     "text": [
      "Modelo de melhor desempenho:  7  - AUC:  0.7648550498041831\n"
     ]
    }
   ],
   "source": [
    "print('Modelo de melhor desempenho: ', scores.argmax(), ' - AUC: ', max(scores))"
   ]
  },
  {
   "cell_type": "code",
   "execution_count": 82,
   "metadata": {
    "scrolled": true
   },
   "outputs": [
    {
     "data": {
      "text/plain": [
       "GradientBoostingClassifier(criterion='friedman_mse', init=None,\n",
       "              learning_rate=0.005, loss='deviance', max_depth=5,\n",
       "              max_features=28, max_leaf_nodes=None,\n",
       "              min_impurity_decrease=0.0, min_impurity_split=None,\n",
       "              min_samples_leaf=2, min_samples_split=100,\n",
       "              min_weight_fraction_leaf=0.0, n_estimators=600,\n",
       "              n_iter_no_change=None, presort='auto', random_state=0,\n",
       "              subsample=0.9000000000000002, tol=0.0001,\n",
       "              validation_fraction=0.1, verbose=0, warm_start=False)"
      ]
     },
     "execution_count": 82,
     "metadata": {},
     "output_type": "execute_result"
    }
   ],
   "source": [
    "best_model = models[scores.argmax()]\n",
    "best_model.fit(X_train, y_train)"
   ]
  },
  {
   "cell_type": "code",
   "execution_count": 83,
   "metadata": {},
   "outputs": [
    {
     "data": {
      "text/plain": [
       "0.7954983538444995"
      ]
     },
     "execution_count": 83,
     "metadata": {},
     "output_type": "execute_result"
    }
   ],
   "source": [
    "y_pred_probs = best_model.predict_proba(X_test)\n",
    "roc_auc_score(y_test, y_pred_probs[:, 1])"
   ]
  },
  {
   "cell_type": "markdown",
   "metadata": {},
   "source": [
    "**Conclusão:** O modelo otimizado atingiu AUC de `0.7955` no dataset de teste."
   ]
  },
  {
   "cell_type": "markdown",
   "metadata": {},
   "source": [
    "## Modelando 'upselling'"
   ]
  },
  {
   "cell_type": "code",
   "execution_count": 84,
   "metadata": {},
   "outputs": [],
   "source": [
    "outcome = pd.read_csv(path + 'orange_small_train_upselling.labels', header = None)"
   ]
  },
  {
   "cell_type": "code",
   "execution_count": 85,
   "metadata": {},
   "outputs": [],
   "source": [
    "features_u = pd.get_dummies(features)"
   ]
  },
  {
   "cell_type": "code",
   "execution_count": 86,
   "metadata": {},
   "outputs": [
    {
     "data": {
      "image/png": "[encoded data removed]",
      "text/plain": [
       "<Figure size 432x288 with 1 Axes>"
      ]
     },
     "metadata": {
      "needs_background": "light"
     },
     "output_type": "display_data"
    }
   ],
   "source": [
    "variables, importances = etc_importances(features_u, outcome)\n",
    "sum_importances = sum_and_plot_importances(variables, importances)"
   ]
  },
  {
   "cell_type": "code",
   "execution_count": 87,
   "metadata": {},
   "outputs": [
    {
     "data": {
      "text/plain": [
       "(50000, 647)"
      ]
     },
     "execution_count": 87,
     "metadata": {},
     "output_type": "execute_result"
    }
   ],
   "source": [
    "features_u = keep_vars(features_u, sum_importances, threshold = 0.99)\n",
    "features_u.shape"
   ]
  },
  {
   "cell_type": "code",
   "execution_count": 88,
   "metadata": {},
   "outputs": [],
   "source": [
    "X_train, X_test, y_train, y_test = split_datasets(features_u, outcome)"
   ]
  },
  {
   "cell_type": "code",
   "execution_count": 89,
   "metadata": {},
   "outputs": [
    {
     "name": "stdout",
     "output_type": "stream",
     "text": [
      "Média dos cinco modelos:  0.6998437587803525\n"
     ]
    }
   ],
   "source": [
    "rfc_test(X_train, y_train)"
   ]
  },
  {
   "cell_type": "code",
   "execution_count": 90,
   "metadata": {},
   "outputs": [
    {
     "name": "stdout",
     "output_type": "stream",
     "text": [
      "Média dos cinco modelos:  0.7500558467034699\n"
     ]
    }
   ],
   "source": [
    "gbc_test(X_train, y_train)"
   ]
  },
  {
   "cell_type": "code",
   "execution_count": 91,
   "metadata": {},
   "outputs": [],
   "source": [
    "models = np.array([])\n",
    "opt_params = dict()\n",
    "scores = np.array([])"
   ]
  },
  {
   "cell_type": "code",
   "execution_count": 92,
   "metadata": {},
   "outputs": [
    {
     "name": "stdout",
     "output_type": "stream",
     "text": [
      "{'n_estimators': 100} 0.7462279885340164\n"
     ]
    }
   ],
   "source": [
    "### MODELO 0\n",
    "\n",
    "learning_rate = 0.1\n",
    "n_estimators = None\n",
    "max_depth = 8\n",
    "min_samples_split = 250\n",
    "min_samples_leaf = 20\n",
    "max_features = 'sqrt'\n",
    "subsample = 0.8\n",
    "params = {'n_estimators': range(50, 101, 10)}\n",
    "\n",
    "gbc, opt_param, score = optimize(n_estimators = n_estimators,\n",
    "                                 learning_rate = learning_rate,\n",
    "                                 min_samples_split = min_samples_split,\n",
    "                                 min_samples_leaf = min_samples_leaf,\n",
    "                                 max_depth = max_depth,\n",
    "                                 max_features = max_features,\n",
    "                                 subsample = subsample,\n",
    "                                 params = params)"
   ]
  },
  {
   "cell_type": "code",
   "execution_count": 93,
   "metadata": {},
   "outputs": [],
   "source": [
    "models = np.append(models, gbc);\n",
    "opt_params = {**opt_params, **opt_param}\n",
    "scores = np.append(scores, score);"
   ]
  },
  {
   "cell_type": "code",
   "execution_count": 94,
   "metadata": {},
   "outputs": [
    {
     "name": "stdout",
     "output_type": "stream",
     "text": [
      "{'max_depth': 7, 'min_samples_split': 300} 0.7498432245612576\n"
     ]
    }
   ],
   "source": [
    "### MODELO 1\n",
    "\n",
    "n_estimators = opt_params['n_estimators']\n",
    "max_depth = None\n",
    "min_samples_split = None\n",
    "min_samples_leaf = 20\n",
    "max_features = 'sqrt'\n",
    "subsample = 0.8\n",
    "params = {'max_depth': range(3, 12, 2), 'min_samples_split': range(150, 401, 50)}\n",
    "\n",
    "gbc, opt_param, score = optimize(n_estimators = n_estimators,\n",
    "                                 learning_rate = learning_rate,\n",
    "                                 min_samples_split = min_samples_split,\n",
    "                                 min_samples_leaf = min_samples_leaf,\n",
    "                                 max_depth = max_depth,\n",
    "                                 max_features = max_features,\n",
    "                                 subsample = subsample,\n",
    "                                 params = params)"
   ]
  },
  {
   "cell_type": "code",
   "execution_count": 95,
   "metadata": {},
   "outputs": [],
   "source": [
    "models = np.append(models, gbc);\n",
    "opt_params = {**opt_params, **opt_param}\n",
    "scores = np.append(scores, score);"
   ]
  },
  {
   "cell_type": "code",
   "execution_count": 96,
   "metadata": {},
   "outputs": [
    {
     "name": "stdout",
     "output_type": "stream",
     "text": [
      "{'min_samples_leaf': 40} 0.7501157401273872\n"
     ]
    }
   ],
   "source": [
    "### MODELO 2\n",
    "\n",
    "max_depth = opt_params['max_depth']\n",
    "min_samples_split = opt_params['min_samples_split']\n",
    "min_samples_leaf = None\n",
    "max_features = 'sqrt'\n",
    "subsample = 0.8\n",
    "params = {'min_samples_leaf': range(5, 50, 5)}\n",
    "\n",
    "gbc, opt_param, score = optimize(n_estimators = n_estimators,\n",
    "                                 learning_rate = learning_rate,\n",
    "                                 min_samples_split = min_samples_split,\n",
    "                                 min_samples_leaf = min_samples_leaf,\n",
    "                                 max_depth = max_depth,\n",
    "                                 max_features = max_features,\n",
    "                                 subsample = subsample,\n",
    "                                 params = params)"
   ]
  },
  {
   "cell_type": "code",
   "execution_count": 97,
   "metadata": {},
   "outputs": [],
   "source": [
    "models = np.append(models, gbc);\n",
    "opt_params = {**opt_params, **opt_param}\n",
    "scores = np.append(scores, score);"
   ]
  },
  {
   "cell_type": "code",
   "execution_count": 98,
   "metadata": {},
   "outputs": [
    {
     "name": "stdout",
     "output_type": "stream",
     "text": [
      "{'max_features': 25} 0.7501157401273872\n"
     ]
    }
   ],
   "source": [
    "### MODELO 3\n",
    "\n",
    "min_samples_leaf = opt_params['min_samples_leaf']\n",
    "max_features = None\n",
    "subsample = 0.8\n",
    "params = {'max_features': range(20, 31, 1)}\n",
    "\n",
    "gbc, opt_param, score = optimize(n_estimators = n_estimators,\n",
    "                                 learning_rate = learning_rate,\n",
    "                                 min_samples_split = min_samples_split,\n",
    "                                 min_samples_leaf = min_samples_leaf,\n",
    "                                 max_depth = max_depth,\n",
    "                                 max_features = max_features,\n",
    "                                 subsample = subsample,\n",
    "                                 params = params)"
   ]
  },
  {
   "cell_type": "code",
   "execution_count": 99,
   "metadata": {},
   "outputs": [],
   "source": [
    "models = np.append(models, gbc);\n",
    "opt_params = {**opt_params, **opt_param}\n",
    "scores = np.append(scores, score);"
   ]
  },
  {
   "cell_type": "code",
   "execution_count": 100,
   "metadata": {},
   "outputs": [
    {
     "name": "stdout",
     "output_type": "stream",
     "text": [
      "{'subsample': 0.8000000000000002} 0.7501157401273872\n"
     ]
    }
   ],
   "source": [
    "### MODELO 4\n",
    "\n",
    "max_features =  opt_params['max_features']\n",
    "subsample = None\n",
    "params = {'subsample': np.append(np.arange(0.6, 1, 0.05), 1)}\n",
    "\n",
    "gbc, opt_param, score = optimize(n_estimators = n_estimators,\n",
    "                                 learning_rate = learning_rate,\n",
    "                                 min_samples_split = min_samples_split,\n",
    "                                 min_samples_leaf = min_samples_leaf,\n",
    "                                 max_depth = max_depth,\n",
    "                                 max_features = max_features,\n",
    "                                 subsample = subsample,\n",
    "                                 params = params)"
   ]
  },
  {
   "cell_type": "code",
   "execution_count": 101,
   "metadata": {},
   "outputs": [],
   "source": [
    "models = np.append(models, gbc);\n",
    "opt_params = {**opt_params, **opt_param}\n",
    "scores = np.append(scores, score);"
   ]
  },
  {
   "cell_type": "code",
   "execution_count": 102,
   "metadata": {},
   "outputs": [],
   "source": [
    "learning_rate = 0.1\n",
    "n_estimators = opt_params['n_estimators']"
   ]
  },
  {
   "cell_type": "code",
   "execution_count": 103,
   "metadata": {},
   "outputs": [
    {
     "data": {
      "image/png": "[encoded data removed]",
      "text/plain": [
       "<Figure size 432x288 with 1 Axes>"
      ]
     },
     "metadata": {
      "needs_background": "light"
     },
     "output_type": "display_data"
    }
   ],
   "source": [
    "### MODELO 5\n",
    "\n",
    "subsample = opt_params['subsample']\n",
    "learning_rate /= 2\n",
    "n_estimators *= 2\n",
    "\n",
    "gbc, score = optimize_2(n_estimators = n_estimators,\n",
    "                        learning_rate = learning_rate,\n",
    "                        min_samples_split = min_samples_split,\n",
    "                        min_samples_leaf = min_samples_leaf,\n",
    "                        max_depth = max_depth,\n",
    "                        max_features = max_features,\n",
    "                        subsample = subsample,\n",
    "                        params = params)"
   ]
  },
  {
   "cell_type": "code",
   "execution_count": 104,
   "metadata": {},
   "outputs": [],
   "source": [
    "models = np.append(models, gbc);\n",
    "scores = np.append(scores, score);"
   ]
  },
  {
   "cell_type": "code",
   "execution_count": 105,
   "metadata": {},
   "outputs": [
    {
     "data": {
      "image/png": "[encoded data removed]",
      "text/plain": [
       "<Figure size 432x288 with 1 Axes>"
      ]
     },
     "metadata": {
      "needs_background": "light"
     },
     "output_type": "display_data"
    }
   ],
   "source": [
    "### MODELO 6\n",
    "\n",
    "learning_rate /= 5\n",
    "n_estimators *= 5\n",
    "\n",
    "gbc, score = optimize_2(n_estimators = n_estimators,\n",
    "                        learning_rate = learning_rate,\n",
    "                        min_samples_split = min_samples_split,\n",
    "                        min_samples_leaf = min_samples_leaf,\n",
    "                        max_depth = max_depth,\n",
    "                        max_features = max_features,\n",
    "                        subsample = subsample,\n",
    "                        params = params)"
   ]
  },
  {
   "cell_type": "code",
   "execution_count": 106,
   "metadata": {},
   "outputs": [],
   "source": [
    "models = np.append(models, gbc);\n",
    "scores = np.append(scores, score);"
   ]
  },
  {
   "cell_type": "code",
   "execution_count": 107,
   "metadata": {},
   "outputs": [
    {
     "data": {
      "image/png": "[encoded data removed]",
      "text/plain": [
       "<Figure size 432x288 with 1 Axes>"
      ]
     },
     "metadata": {
      "needs_background": "light"
     },
     "output_type": "display_data"
    }
   ],
   "source": [
    "### MODELO 7\n",
    "\n",
    "learning_rate /= 2\n",
    "n_estimators *= 2\n",
    "\n",
    "gbc, score = optimize_2(n_estimators = n_estimators,\n",
    "                        learning_rate = learning_rate,\n",
    "                        min_samples_split = min_samples_split,\n",
    "                        min_samples_leaf = min_samples_leaf,\n",
    "                        max_depth = max_depth,\n",
    "                        max_features = max_features,\n",
    "                        subsample = subsample,\n",
    "                        params = params)"
   ]
  },
  {
   "cell_type": "code",
   "execution_count": 108,
   "metadata": {},
   "outputs": [],
   "source": [
    "models = np.append(models, gbc);\n",
    "scores = np.append(scores, score);"
   ]
  },
  {
   "cell_type": "code",
   "execution_count": 109,
   "metadata": {},
   "outputs": [
    {
     "data": {
      "image/png": "[encoded data removed]",
      "text/plain": [
       "<Figure size 432x288 with 1 Axes>"
      ]
     },
     "metadata": {
      "needs_background": "light"
     },
     "output_type": "display_data"
    }
   ],
   "source": [
    "### MODELO 8\n",
    "\n",
    "learning_rate /= 5\n",
    "n_estimators *= 5\n",
    "\n",
    "gbc, score = optimize_2(n_estimators = n_estimators,\n",
    "                        learning_rate = learning_rate,\n",
    "                        min_samples_split = min_samples_split,\n",
    "                        min_samples_leaf = min_samples_leaf,\n",
    "                        max_depth = max_depth,\n",
    "                        max_features = max_features,\n",
    "                        subsample = subsample,\n",
    "                        params = params)"
   ]
  },
  {
   "cell_type": "code",
   "execution_count": 110,
   "metadata": {},
   "outputs": [],
   "source": [
    "models = np.append(models, gbc);\n",
    "scores = np.append(scores, score);"
   ]
  },
  {
   "cell_type": "code",
   "execution_count": 111,
   "metadata": {},
   "outputs": [
    {
     "name": "stdout",
     "output_type": "stream",
     "text": [
      "Modelo de melhor desempenho:  8  - AUC:  0.7529214938490817\n"
     ]
    }
   ],
   "source": [
    "print('Modelo de melhor desempenho: ', scores.argmax(), ' - AUC: ', max(scores))"
   ]
  },
  {
   "cell_type": "code",
   "execution_count": 112,
   "metadata": {},
   "outputs": [
    {
     "data": {
      "text/plain": [
       "GradientBoostingClassifier(criterion='friedman_mse', init=None,\n",
       "              learning_rate=0.001, loss='deviance', max_depth=7,\n",
       "              max_features=25, max_leaf_nodes=None,\n",
       "              min_impurity_decrease=0.0, min_impurity_split=None,\n",
       "              min_samples_leaf=40, min_samples_split=300,\n",
       "              min_weight_fraction_leaf=0.0, n_estimators=10000,\n",
       "              n_iter_no_change=None, presort='auto', random_state=0,\n",
       "              subsample=0.8000000000000002, tol=0.0001,\n",
       "              validation_fraction=0.1, verbose=0, warm_start=False)"
      ]
     },
     "execution_count": 112,
     "metadata": {},
     "output_type": "execute_result"
    }
   ],
   "source": [
    "best_model = models[scores.argmax()]\n",
    "best_model.fit(X_train, y_train)"
   ]
  },
  {
   "cell_type": "code",
   "execution_count": 113,
   "metadata": {},
   "outputs": [
    {
     "data": {
      "text/plain": [
       "0.7621693019261094"
      ]
     },
     "execution_count": 113,
     "metadata": {},
     "output_type": "execute_result"
    }
   ],
   "source": [
    "y_pred_probs = best_model.predict_proba(X_test)\n",
    "roc_auc_score(y_test, y_pred_probs[:, 1])"
   ]
  },
  {
   "cell_type": "markdown",
   "metadata": {},
   "source": [
    "**Conclusão:** O modelo otimizado atingiu AUC de `0.7622` no dataset de teste."
   ]
  }
 ],
 "metadata": {
  "kernelspec": {
   "display_name": "Python [conda env:Anaconda3]",
   "language": "python",
   "name": "conda-env-Anaconda3-py"
  },
  "language_info": {
   "codemirror_mode": {
    "name": "ipython",
    "version": 3
   },
   "file_extension": ".py",
   "mimetype": "text/x-python",
   "name": "python",
   "nbconvert_exporter": "python",
   "pygments_lexer": "ipython3",
   "version": "3.6.7"
  }
 },
 "nbformat": 4,
 "nbformat_minor": 2
}
